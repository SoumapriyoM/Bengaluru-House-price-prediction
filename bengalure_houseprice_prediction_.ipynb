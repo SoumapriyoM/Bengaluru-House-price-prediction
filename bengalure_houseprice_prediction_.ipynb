{
  "metadata": {
    "kernelspec": {
      "language": "python",
      "display_name": "Python 3",
      "name": "python3"
    },
    "language_info": {
      "pygments_lexer": "ipython3",
      "nbconvert_exporter": "python",
      "version": "3.6.4",
      "file_extension": ".py",
      "codemirror_mode": {
        "name": "ipython",
        "version": 3
      },
      "name": "python",
      "mimetype": "text/x-python"
    },
    "colab": {
      "provenance": [],
      "include_colab_link": true
    }
  },
  "nbformat_minor": 0,
  "nbformat": 4,
  "cells": [
    {
      "cell_type": "markdown",
      "metadata": {
        "id": "view-in-github",
        "colab_type": "text"
      },
      "source": [
        "<a href=\"https://colab.research.google.com/github/SoumapriyoM/Bengaluru-House-price-prediction/blob/main/bengalure_houseprice_prediction_.ipynb\" target=\"_parent\"><img src=\"https://colab.research.google.com/assets/colab-badge.svg\" alt=\"Open In Colab\"/></a>"
      ]
    },
    {
      "cell_type": "markdown",
      "source": [
        "# Bengalure House Price Prediction Dataset"
      ],
      "metadata": {
        "id": "gY7M-pvrNLJj"
      }
    },
    {
      "cell_type": "markdown",
      "source": [
        "# 1. Introduction\n",
        "\n",
        "1. Predicting the price of houses in Bengaluru based on factors like:\n",
        "2. A Supervised Learning Problem (Regression Problem)\n",
        "3. Dataset is taken from Kaggle: https://www.kaggle.com/datasets/amitabhajoy/bengaluru-house-price-data\n",
        "4. The goal of the dataset is to predict the price of house based on location, number of bedroom, number of bathroom\n",
        "5. Dependent variable is 'price' rest are independent variable; Location is a 'categorical' value"
      ],
      "metadata": {
        "id": "ekRzjJBRNLJk"
      }
    },
    {
      "cell_type": "markdown",
      "source": [
        "# 2. Exploring Data"
      ],
      "metadata": {
        "id": "XyJGf6fjNLJk"
      }
    },
    {
      "cell_type": "markdown",
      "source": [
        "2.1 Import the necessary modules and read the data"
      ],
      "metadata": {
        "id": "sN_iuWFwNLJk"
      }
    },
    {
      "cell_type": "code",
      "source": [
        "import pandas as pd\n",
        "from sklearn.tree import plot_tree\n",
        "import matplotlib.pyplot as plt\n",
        "import seaborn as sns\n",
        "from sklearn import tree\n",
        "from sklearn.model_selection import train_test_split\n",
        "import warnings\n",
        "import numpy as np\n",
        "warnings.filterwarnings('ignore')\n",
        "from sklearn import metrics"
      ],
      "metadata": {
        "execution": {
          "iopub.status.busy": "2023-06-30T19:13:32.331974Z",
          "iopub.execute_input": "2023-06-30T19:13:32.332311Z",
          "iopub.status.idle": "2023-06-30T19:13:32.337318Z",
          "shell.execute_reply.started": "2023-06-30T19:13:32.332284Z",
          "shell.execute_reply": "2023-06-30T19:13:32.336416Z"
        },
        "trusted": true,
        "id": "xQ5GACdWNLJk"
      },
      "execution_count": null,
      "outputs": []
    },
    {
      "cell_type": "code",
      "source": [
        "df = pd.read_csv('/kaggle/input/bengaluru-house-price-data/Bengaluru_House_Data.csv')"
      ],
      "metadata": {
        "execution": {
          "iopub.status.busy": "2023-06-30T19:13:32.339016Z",
          "iopub.execute_input": "2023-06-30T19:13:32.339314Z",
          "iopub.status.idle": "2023-06-30T19:13:32.372133Z",
          "shell.execute_reply.started": "2023-06-30T19:13:32.339292Z",
          "shell.execute_reply": "2023-06-30T19:13:32.371259Z"
        },
        "trusted": true,
        "id": "eaQhdqTGNLJk"
      },
      "execution_count": null,
      "outputs": []
    },
    {
      "cell_type": "code",
      "source": [
        "df.shape"
      ],
      "metadata": {
        "execution": {
          "iopub.status.busy": "2023-06-30T19:13:32.373473Z",
          "iopub.execute_input": "2023-06-30T19:13:32.373775Z",
          "iopub.status.idle": "2023-06-30T19:13:32.379265Z",
          "shell.execute_reply.started": "2023-06-30T19:13:32.373748Z",
          "shell.execute_reply": "2023-06-30T19:13:32.378453Z"
        },
        "trusted": true,
        "id": "_RCbTw1ENLJl"
      },
      "execution_count": null,
      "outputs": []
    },
    {
      "cell_type": "code",
      "source": [
        "df.dtypes"
      ],
      "metadata": {
        "execution": {
          "iopub.status.busy": "2023-06-30T19:13:32.380539Z",
          "iopub.execute_input": "2023-06-30T19:13:32.381027Z",
          "iopub.status.idle": "2023-06-30T19:13:32.393939Z",
          "shell.execute_reply.started": "2023-06-30T19:13:32.380997Z",
          "shell.execute_reply": "2023-06-30T19:13:32.393105Z"
        },
        "trusted": true,
        "id": "hAEJQPX0NLJl"
      },
      "execution_count": null,
      "outputs": []
    },
    {
      "cell_type": "code",
      "source": [
        "df.head()"
      ],
      "metadata": {
        "execution": {
          "iopub.status.busy": "2023-06-30T19:13:32.396166Z",
          "iopub.execute_input": "2023-06-30T19:13:32.396614Z",
          "iopub.status.idle": "2023-06-30T19:13:32.418109Z",
          "shell.execute_reply.started": "2023-06-30T19:13:32.396591Z",
          "shell.execute_reply": "2023-06-30T19:13:32.417023Z"
        },
        "trusted": true,
        "id": "XcpcDMP8NLJl"
      },
      "execution_count": null,
      "outputs": []
    },
    {
      "cell_type": "markdown",
      "source": [
        "We are keeping the model simple, so we will drop few columns. Assuming availability, society, area_type are not very important features, we will drop them"
      ],
      "metadata": {
        "id": "Fec--govNLJl"
      }
    },
    {
      "cell_type": "code",
      "source": [
        "df1 = df.drop(['availability', 'society', 'balcony', 'area_type'], axis='columns')\n",
        "df1"
      ],
      "metadata": {
        "execution": {
          "iopub.status.busy": "2023-06-30T19:13:32.419276Z",
          "iopub.execute_input": "2023-06-30T19:13:32.419813Z",
          "iopub.status.idle": "2023-06-30T19:13:32.442083Z",
          "shell.execute_reply.started": "2023-06-30T19:13:32.419786Z",
          "shell.execute_reply": "2023-06-30T19:13:32.441339Z"
        },
        "trusted": true,
        "id": "12QyF0Z_NLJl"
      },
      "execution_count": null,
      "outputs": []
    },
    {
      "cell_type": "markdown",
      "source": [
        "# 3. Data Cleaning"
      ],
      "metadata": {
        "id": "7iVTVtisNLJl"
      }
    },
    {
      "cell_type": "markdown",
      "source": [
        "Checking NA values"
      ],
      "metadata": {
        "id": "eLiZqtUFNLJl"
      }
    },
    {
      "cell_type": "code",
      "source": [
        "df1.isna().sum()"
      ],
      "metadata": {
        "execution": {
          "iopub.status.busy": "2023-06-30T19:13:32.443505Z",
          "iopub.execute_input": "2023-06-30T19:13:32.444253Z",
          "iopub.status.idle": "2023-06-30T19:13:32.460155Z",
          "shell.execute_reply.started": "2023-06-30T19:13:32.444209Z",
          "shell.execute_reply": "2023-06-30T19:13:32.458983Z"
        },
        "trusted": true,
        "id": "XHLIxMIcNLJl"
      },
      "execution_count": null,
      "outputs": []
    },
    {
      "cell_type": "markdown",
      "source": [
        "Removing na values\n",
        "- We have 13320 values & very less NA values ie. 73, so we are safely removing it. We could instead even fill the values with their mean values"
      ],
      "metadata": {
        "id": "xBEthJ_aNLJl"
      }
    },
    {
      "cell_type": "code",
      "source": [
        "df1 = df1.dropna()\n",
        "df1.isna().sum()"
      ],
      "metadata": {
        "execution": {
          "iopub.status.busy": "2023-06-30T19:13:32.461668Z",
          "iopub.execute_input": "2023-06-30T19:13:32.46217Z",
          "iopub.status.idle": "2023-06-30T19:13:32.487665Z",
          "shell.execute_reply.started": "2023-06-30T19:13:32.462142Z",
          "shell.execute_reply": "2023-06-30T19:13:32.486288Z"
        },
        "trusted": true,
        "id": "WihiYOMJNLJm"
      },
      "execution_count": null,
      "outputs": []
    },
    {
      "cell_type": "code",
      "source": [
        "df1['size'].unique()"
      ],
      "metadata": {
        "execution": {
          "iopub.status.busy": "2023-06-30T19:13:32.489531Z",
          "iopub.execute_input": "2023-06-30T19:13:32.490213Z",
          "iopub.status.idle": "2023-06-30T19:13:32.498223Z",
          "shell.execute_reply.started": "2023-06-30T19:13:32.490178Z",
          "shell.execute_reply": "2023-06-30T19:13:32.49716Z"
        },
        "trusted": true,
        "id": "AcF7kuj_NLJm"
      },
      "execution_count": null,
      "outputs": []
    },
    {
      "cell_type": "markdown",
      "source": [
        "Somewhere the columns are BHK, somewhere it says Bedroom, to handle such data, we will create a new column bhk that will only hold the value of the data"
      ],
      "metadata": {
        "id": "8Op46H_ZNLJm"
      }
    },
    {
      "cell_type": "code",
      "source": [
        "df1['bhk'] = df1['size'].apply(lambda x: int(x.split(' ')[0]))"
      ],
      "metadata": {
        "execution": {
          "iopub.status.busy": "2023-06-30T19:13:32.499944Z",
          "iopub.execute_input": "2023-06-30T19:13:32.500802Z",
          "iopub.status.idle": "2023-06-30T19:13:32.518637Z",
          "shell.execute_reply.started": "2023-06-30T19:13:32.500766Z",
          "shell.execute_reply": "2023-06-30T19:13:32.517702Z"
        },
        "trusted": true,
        "id": "SxG3l2BrNLJm"
      },
      "execution_count": null,
      "outputs": []
    },
    {
      "cell_type": "code",
      "source": [
        "df1.head()"
      ],
      "metadata": {
        "execution": {
          "iopub.status.busy": "2023-06-30T19:13:32.519921Z",
          "iopub.execute_input": "2023-06-30T19:13:32.520251Z",
          "iopub.status.idle": "2023-06-30T19:13:32.532026Z",
          "shell.execute_reply.started": "2023-06-30T19:13:32.520224Z",
          "shell.execute_reply": "2023-06-30T19:13:32.531224Z"
        },
        "trusted": true,
        "id": "DPMJnnd6NLJm"
      },
      "execution_count": null,
      "outputs": []
    },
    {
      "cell_type": "code",
      "source": [
        "df1['bhk'].unique()"
      ],
      "metadata": {
        "execution": {
          "iopub.status.busy": "2023-06-30T19:13:32.533216Z",
          "iopub.execute_input": "2023-06-30T19:13:32.533615Z",
          "iopub.status.idle": "2023-06-30T19:13:32.547697Z",
          "shell.execute_reply.started": "2023-06-30T19:13:32.53359Z",
          "shell.execute_reply": "2023-06-30T19:13:32.546423Z"
        },
        "trusted": true,
        "id": "Z0hjQSXnNLJm"
      },
      "execution_count": null,
      "outputs": []
    },
    {
      "cell_type": "code",
      "source": [
        "df1[df1.bhk > 20]"
      ],
      "metadata": {
        "execution": {
          "iopub.status.busy": "2023-06-30T19:13:32.54904Z",
          "iopub.execute_input": "2023-06-30T19:13:32.549332Z",
          "iopub.status.idle": "2023-06-30T19:13:32.56743Z",
          "shell.execute_reply.started": "2023-06-30T19:13:32.54931Z",
          "shell.execute_reply": "2023-06-30T19:13:32.566397Z"
        },
        "trusted": true,
        "id": "8Ej21kJCNLJm"
      },
      "execution_count": null,
      "outputs": []
    },
    {
      "cell_type": "markdown",
      "source": [
        "It has 43 bedroom with 2400 total_sqft this looks like an error and we will deal with it later"
      ],
      "metadata": {
        "id": "stoT3wPgNLJm"
      }
    },
    {
      "cell_type": "code",
      "source": [
        "df1.total_sqft.unique()"
      ],
      "metadata": {
        "execution": {
          "iopub.status.busy": "2023-06-30T19:13:32.572722Z",
          "iopub.execute_input": "2023-06-30T19:13:32.57339Z",
          "iopub.status.idle": "2023-06-30T19:13:32.583229Z",
          "shell.execute_reply.started": "2023-06-30T19:13:32.573347Z",
          "shell.execute_reply": "2023-06-30T19:13:32.582191Z"
        },
        "trusted": true,
        "id": "sl9AgtXFNLJm"
      },
      "execution_count": null,
      "outputs": []
    },
    {
      "cell_type": "markdown",
      "source": [
        "In total_sqft we can see that there are some values like this '1133-1384' which we need to correct. Now we will see if the number is float or not & then we will convert appropriately"
      ],
      "metadata": {
        "id": "AMmACdo1NLJm"
      }
    },
    {
      "cell_type": "code",
      "source": [
        "def is_float(x):\n",
        "    try:\n",
        "        float(x)\n",
        "    except:\n",
        "        return False\n",
        "    return True"
      ],
      "metadata": {
        "execution": {
          "iopub.status.busy": "2023-06-30T19:13:32.584341Z",
          "iopub.execute_input": "2023-06-30T19:13:32.585194Z",
          "iopub.status.idle": "2023-06-30T19:13:32.597227Z",
          "shell.execute_reply.started": "2023-06-30T19:13:32.58516Z",
          "shell.execute_reply": "2023-06-30T19:13:32.596145Z"
        },
        "trusted": true,
        "id": "izQmxgenNLJm"
      },
      "execution_count": null,
      "outputs": []
    },
    {
      "cell_type": "code",
      "source": [
        "df1[~df1['total_sqft'].apply(is_float)].head(10)"
      ],
      "metadata": {
        "execution": {
          "iopub.status.busy": "2023-06-30T19:13:32.598636Z",
          "iopub.execute_input": "2023-06-30T19:13:32.598914Z",
          "iopub.status.idle": "2023-06-30T19:13:32.625418Z",
          "shell.execute_reply.started": "2023-06-30T19:13:32.598891Z",
          "shell.execute_reply": "2023-06-30T19:13:32.624584Z"
        },
        "trusted": true,
        "id": "dpwnEDbJNLJn"
      },
      "execution_count": null,
      "outputs": []
    },
    {
      "cell_type": "markdown",
      "source": [
        "For range values , we will take the mid values & for other annomilious values like 34.46Sq. Meter we will just ignore them"
      ],
      "metadata": {
        "id": "GiYHuUc5NLJn"
      }
    },
    {
      "cell_type": "code",
      "source": [
        "def convert_range_to_num(x):\n",
        "    tokens = x.split('-')\n",
        "    if (len(tokens) == 2):\n",
        "        return(float(tokens[0])+float(tokens[1]))/2\n",
        "    try:\n",
        "        return float(x)\n",
        "    except:\n",
        "        return None"
      ],
      "metadata": {
        "execution": {
          "iopub.status.busy": "2023-06-30T19:13:32.626793Z",
          "iopub.execute_input": "2023-06-30T19:13:32.627069Z",
          "iopub.status.idle": "2023-06-30T19:13:32.638499Z",
          "shell.execute_reply.started": "2023-06-30T19:13:32.627047Z",
          "shell.execute_reply": "2023-06-30T19:13:32.637443Z"
        },
        "trusted": true,
        "id": "XZFqPxpzNLJn"
      },
      "execution_count": null,
      "outputs": []
    },
    {
      "cell_type": "code",
      "source": [
        "df2 = df1.copy()\n",
        "df2['total_sqft'] = df1['total_sqft'].apply(convert_range_to_num)\n",
        "df2.head()"
      ],
      "metadata": {
        "execution": {
          "iopub.status.busy": "2023-06-30T19:13:32.639736Z",
          "iopub.execute_input": "2023-06-30T19:13:32.640675Z",
          "iopub.status.idle": "2023-06-30T19:13:32.666938Z",
          "shell.execute_reply.started": "2023-06-30T19:13:32.640646Z",
          "shell.execute_reply": "2023-06-30T19:13:32.666035Z"
        },
        "trusted": true,
        "id": "tYC3LXodNLJn"
      },
      "execution_count": null,
      "outputs": []
    },
    {
      "cell_type": "code",
      "source": [
        "df2['total_sqft'].unique()"
      ],
      "metadata": {
        "execution": {
          "iopub.status.busy": "2023-06-30T19:13:32.668218Z",
          "iopub.execute_input": "2023-06-30T19:13:32.668733Z",
          "iopub.status.idle": "2023-06-30T19:13:32.673937Z",
          "shell.execute_reply.started": "2023-06-30T19:13:32.668707Z",
          "shell.execute_reply": "2023-06-30T19:13:32.673355Z"
        },
        "trusted": true,
        "id": "2OpbXfoONLJn"
      },
      "execution_count": null,
      "outputs": []
    },
    {
      "cell_type": "markdown",
      "source": [
        "We will add 1 new fature 'price_per_sqft' that would be very essential for outlier detection"
      ],
      "metadata": {
        "id": "yXlNTrFeNLJn"
      }
    },
    {
      "cell_type": "code",
      "source": [
        "df3 = df2.copy()\n",
        "df3['price_per_sqft'] = df3['price']*100000/df3['total_sqft']"
      ],
      "metadata": {
        "execution": {
          "iopub.status.busy": "2023-06-30T19:13:32.674823Z",
          "iopub.execute_input": "2023-06-30T19:13:32.675708Z",
          "iopub.status.idle": "2023-06-30T19:13:32.689954Z",
          "shell.execute_reply.started": "2023-06-30T19:13:32.675677Z",
          "shell.execute_reply": "2023-06-30T19:13:32.688972Z"
        },
        "trusted": true,
        "id": "QfnWxnBkNLJn"
      },
      "execution_count": null,
      "outputs": []
    },
    {
      "cell_type": "markdown",
      "source": [
        "The price is in 1 lakhs INR that is why we multiplied it with that amount."
      ],
      "metadata": {
        "id": "3SyD69ySNLJn"
      }
    },
    {
      "cell_type": "code",
      "source": [
        "df3.head()"
      ],
      "metadata": {
        "execution": {
          "iopub.status.busy": "2023-06-30T19:13:32.691055Z",
          "iopub.execute_input": "2023-06-30T19:13:32.6913Z",
          "iopub.status.idle": "2023-06-30T19:13:32.70881Z",
          "shell.execute_reply.started": "2023-06-30T19:13:32.691279Z",
          "shell.execute_reply": "2023-06-30T19:13:32.707703Z"
        },
        "trusted": true,
        "id": "U-YPT-G-NLJn"
      },
      "execution_count": null,
      "outputs": []
    },
    {
      "cell_type": "markdown",
      "source": [
        "- We see that the new column has been added.\n",
        "- Next, we see the 'location' column. Since, it is a categorical value & if we have too many locations it will cause issues.\n"
      ],
      "metadata": {
        "id": "09Cg2AyiNLJn"
      }
    },
    {
      "cell_type": "code",
      "source": [
        "len(df3.location.unique())"
      ],
      "metadata": {
        "execution": {
          "iopub.status.busy": "2023-06-30T19:13:32.710108Z",
          "iopub.execute_input": "2023-06-30T19:13:32.711536Z",
          "iopub.status.idle": "2023-06-30T19:13:32.719448Z",
          "shell.execute_reply.started": "2023-06-30T19:13:32.711483Z",
          "shell.execute_reply": "2023-06-30T19:13:32.718452Z"
        },
        "trusted": true,
        "id": "hIw78TuYNLJn"
      },
      "execution_count": null,
      "outputs": []
    },
    {
      "cell_type": "markdown",
      "source": [],
      "metadata": {
        "id": "XDvVeRwNNLJo"
      }
    },
    {
      "cell_type": "markdown",
      "source": [
        "- We have 1304 unique features which is huge. Usually for character text, we use encoding, but here the number is too big & encoding would not be appropriate. This is called 'Dimensionality Curse' or High Dimensionality Problem.\n",
        "\n",
        "- To deal with it, we can convert some location to 'Other'Category. Locations which haas 1-2 data points, we will convert it to 'Other' category\n",
        "- Next, we see how many data points are available for location"
      ],
      "metadata": {
        "id": "hFoSS8H-NLJo"
      }
    },
    {
      "cell_type": "code",
      "source": [
        "df3['location'] = df3['location'].apply(lambda x: x.strip()) #Cleaning - Removing leading space from location"
      ],
      "metadata": {
        "execution": {
          "iopub.status.busy": "2023-06-30T19:13:32.720913Z",
          "iopub.execute_input": "2023-06-30T19:13:32.721258Z",
          "iopub.status.idle": "2023-06-30T19:13:32.734327Z",
          "shell.execute_reply.started": "2023-06-30T19:13:32.721228Z",
          "shell.execute_reply": "2023-06-30T19:13:32.733329Z"
        },
        "trusted": true,
        "id": "gImPf4o_NLJv"
      },
      "execution_count": null,
      "outputs": []
    },
    {
      "cell_type": "code",
      "source": [
        "loc = df3.groupby('location')['location'].agg('count').sort_values(ascending = False)"
      ],
      "metadata": {
        "execution": {
          "iopub.status.busy": "2023-06-30T19:13:32.736128Z",
          "iopub.execute_input": "2023-06-30T19:13:32.736915Z",
          "iopub.status.idle": "2023-06-30T19:13:32.750977Z",
          "shell.execute_reply.started": "2023-06-30T19:13:32.736884Z",
          "shell.execute_reply": "2023-06-30T19:13:32.749802Z"
        },
        "trusted": true,
        "id": "wYpmrJPdNLJv"
      },
      "execution_count": null,
      "outputs": []
    },
    {
      "cell_type": "code",
      "source": [
        "loc"
      ],
      "metadata": {
        "execution": {
          "iopub.status.busy": "2023-06-30T19:13:32.752408Z",
          "iopub.execute_input": "2023-06-30T19:13:32.753214Z",
          "iopub.status.idle": "2023-06-30T19:13:32.765631Z",
          "shell.execute_reply.started": "2023-06-30T19:13:32.753183Z",
          "shell.execute_reply": "2023-06-30T19:13:32.764743Z"
        },
        "trusted": true,
        "id": "A6mfsVjENLJv"
      },
      "execution_count": null,
      "outputs": []
    },
    {
      "cell_type": "markdown",
      "source": [
        "# 4. Feature Engineering & Dimensionality Reduction Techniques"
      ],
      "metadata": {
        "id": "MVtnwZagNLJv"
      }
    },
    {
      "cell_type": "code",
      "source": [
        "len(loc[loc<=10]) #Checking how many data has less than or equal to 10 data points"
      ],
      "metadata": {
        "execution": {
          "iopub.status.busy": "2023-06-30T19:13:32.766752Z",
          "iopub.execute_input": "2023-06-30T19:13:32.767841Z",
          "iopub.status.idle": "2023-06-30T19:13:32.778273Z",
          "shell.execute_reply.started": "2023-06-30T19:13:32.767809Z",
          "shell.execute_reply": "2023-06-30T19:13:32.777443Z"
        },
        "trusted": true,
        "id": "e1fNaJHUNLJv"
      },
      "execution_count": null,
      "outputs": []
    },
    {
      "cell_type": "code",
      "source": [
        "loc_less_than_10 =  loc[loc<=10]"
      ],
      "metadata": {
        "execution": {
          "iopub.status.busy": "2023-06-30T19:13:32.779486Z",
          "iopub.execute_input": "2023-06-30T19:13:32.780431Z",
          "iopub.status.idle": "2023-06-30T19:13:32.788933Z",
          "shell.execute_reply.started": "2023-06-30T19:13:32.780398Z",
          "shell.execute_reply": "2023-06-30T19:13:32.787417Z"
        },
        "trusted": true,
        "id": "dL3G7doyNLJv"
      },
      "execution_count": null,
      "outputs": []
    },
    {
      "cell_type": "markdown",
      "source": [
        "We can convert above 1039 datapoints to 'Other'"
      ],
      "metadata": {
        "id": "JZWhcWUjNLJv"
      }
    },
    {
      "cell_type": "code",
      "source": [
        "len(df3.location.unique()) #unique values - 1293 out of which 1039 is to be converted to 'Other' category"
      ],
      "metadata": {
        "execution": {
          "iopub.status.busy": "2023-06-30T19:13:32.790391Z",
          "iopub.execute_input": "2023-06-30T19:13:32.790931Z",
          "iopub.status.idle": "2023-06-30T19:13:32.804606Z",
          "shell.execute_reply.started": "2023-06-30T19:13:32.790899Z",
          "shell.execute_reply": "2023-06-30T19:13:32.803481Z"
        },
        "trusted": true,
        "id": "g-OtHJZ_NLJv"
      },
      "execution_count": null,
      "outputs": []
    },
    {
      "cell_type": "code",
      "source": [
        "df3.location = df3['location'].apply(lambda x: 'Other' if x in loc_less_than_10 else x) #converting to 'Other'"
      ],
      "metadata": {
        "execution": {
          "iopub.status.busy": "2023-06-30T19:13:32.806022Z",
          "iopub.execute_input": "2023-06-30T19:13:32.806325Z",
          "iopub.status.idle": "2023-06-30T19:13:32.837528Z",
          "shell.execute_reply.started": "2023-06-30T19:13:32.806303Z",
          "shell.execute_reply": "2023-06-30T19:13:32.836436Z"
        },
        "trusted": true,
        "id": "EHyxIdMeNLJw"
      },
      "execution_count": null,
      "outputs": []
    },
    {
      "cell_type": "code",
      "source": [
        "len(df3.location.unique())"
      ],
      "metadata": {
        "execution": {
          "iopub.status.busy": "2023-06-30T19:13:32.838558Z",
          "iopub.execute_input": "2023-06-30T19:13:32.839396Z",
          "iopub.status.idle": "2023-06-30T19:13:32.848493Z",
          "shell.execute_reply.started": "2023-06-30T19:13:32.83935Z",
          "shell.execute_reply": "2023-06-30T19:13:32.847138Z"
        },
        "trusted": true,
        "id": "8r6JQx3rNLJw"
      },
      "execution_count": null,
      "outputs": []
    },
    {
      "cell_type": "markdown",
      "source": [
        "We see now we have 242 features (1293 - 1052 + 1)"
      ],
      "metadata": {
        "id": "_c55t8vXNLJw"
      }
    },
    {
      "cell_type": "markdown",
      "source": [
        "# 5. Outlier Detection & Removal"
      ],
      "metadata": {
        "id": "tLgXhc0NNLJw"
      }
    },
    {
      "cell_type": "markdown",
      "source": [
        "For Outlier Detection & Removal either we can use our domain knowldege of Real Estate or use Standard Deviation methods."
      ],
      "metadata": {
        "id": "YcbTFuMENLJw"
      }
    },
    {
      "cell_type": "code",
      "source": [
        "df3.shape"
      ],
      "metadata": {
        "execution": {
          "iopub.status.busy": "2023-06-30T19:13:32.849946Z",
          "iopub.execute_input": "2023-06-30T19:13:32.850281Z",
          "iopub.status.idle": "2023-06-30T19:13:32.861832Z",
          "shell.execute_reply.started": "2023-06-30T19:13:32.850257Z",
          "shell.execute_reply": "2023-06-30T19:13:32.860564Z"
        },
        "trusted": true,
        "id": "52vJCPjbNLJw"
      },
      "execution_count": null,
      "outputs": []
    },
    {
      "cell_type": "markdown",
      "source": [
        "First, with domain knowledge, we understand that 1 bedroom has approx size of 300"
      ],
      "metadata": {
        "id": "ez-3KeGTNLJw"
      }
    },
    {
      "cell_type": "code",
      "source": [
        "df3[df3.total_sqft/df3.bhk <300]"
      ],
      "metadata": {
        "execution": {
          "iopub.status.busy": "2023-06-30T19:13:32.863341Z",
          "iopub.execute_input": "2023-06-30T19:13:32.86364Z",
          "iopub.status.idle": "2023-06-30T19:13:32.887398Z",
          "shell.execute_reply.started": "2023-06-30T19:13:32.863618Z",
          "shell.execute_reply": "2023-06-30T19:13:32.885955Z"
        },
        "trusted": true,
        "id": "6XSR0nQoNLJw"
      },
      "execution_count": null,
      "outputs": []
    },
    {
      "cell_type": "code",
      "source": [
        "df4 = df3[~(df3.total_sqft/df3.bhk <300)]"
      ],
      "metadata": {
        "execution": {
          "iopub.status.busy": "2023-06-30T19:13:32.888932Z",
          "iopub.execute_input": "2023-06-30T19:13:32.889244Z",
          "iopub.status.idle": "2023-06-30T19:13:32.906171Z",
          "shell.execute_reply.started": "2023-06-30T19:13:32.88922Z",
          "shell.execute_reply": "2023-06-30T19:13:32.905087Z"
        },
        "trusted": true,
        "id": "N-hRJejnNLJw"
      },
      "execution_count": null,
      "outputs": []
    },
    {
      "cell_type": "code",
      "source": [
        "df4.location"
      ],
      "metadata": {
        "execution": {
          "iopub.status.busy": "2023-06-30T19:13:32.907058Z",
          "iopub.execute_input": "2023-06-30T19:13:32.907313Z",
          "iopub.status.idle": "2023-06-30T19:13:32.920441Z",
          "shell.execute_reply.started": "2023-06-30T19:13:32.907291Z",
          "shell.execute_reply": "2023-06-30T19:13:32.919392Z"
        },
        "trusted": true,
        "id": "hO7QswRNNLJw"
      },
      "execution_count": null,
      "outputs": []
    },
    {
      "cell_type": "code",
      "source": [
        "df4.shape"
      ],
      "metadata": {
        "execution": {
          "iopub.status.busy": "2023-06-30T19:13:32.921551Z",
          "iopub.execute_input": "2023-06-30T19:13:32.921811Z",
          "iopub.status.idle": "2023-06-30T19:13:32.931162Z",
          "shell.execute_reply.started": "2023-06-30T19:13:32.921788Z",
          "shell.execute_reply": "2023-06-30T19:13:32.930067Z"
        },
        "trusted": true,
        "id": "tRkJjxNhNLJw"
      },
      "execution_count": null,
      "outputs": []
    },
    {
      "cell_type": "markdown",
      "source": [
        "Here, we see that we have removed the outliers with the domain knowledge."
      ],
      "metadata": {
        "id": "_qe4QvZINLJx"
      }
    },
    {
      "cell_type": "markdown",
      "source": [
        "Next, we can see 'price_per_sqft' feature. We will see the highest and the lowest values."
      ],
      "metadata": {
        "id": "VfvXvmP7NLJx"
      }
    },
    {
      "cell_type": "code",
      "source": [
        "df4.price_per_sqft.describe() #describe function gives you some basic statistics on that particular column"
      ],
      "metadata": {
        "execution": {
          "iopub.status.busy": "2023-06-30T19:13:32.932571Z",
          "iopub.execute_input": "2023-06-30T19:13:32.932882Z",
          "iopub.status.idle": "2023-06-30T19:13:32.947924Z",
          "shell.execute_reply.started": "2023-06-30T19:13:32.932855Z",
          "shell.execute_reply": "2023-06-30T19:13:32.947079Z"
        },
        "trusted": true,
        "id": "JVf4x6L9NLJx"
      },
      "execution_count": null,
      "outputs": []
    },
    {
      "cell_type": "markdown",
      "source": [
        "We see that the lowest price per sqft is ~267 Rs v/s costliest property is ~176470. We will remove such extreme cases using standard deviation function."
      ],
      "metadata": {
        "id": "cuYcxADHNLJx"
      }
    },
    {
      "cell_type": "code",
      "source": [
        "#Function to remove price_per_sqft outlier\n",
        "def remove_pps_outlier(df):\n",
        "    df_out = pd.DataFrame()\n",
        "    for key, subdf in df.groupby('location'):\n",
        "        m = np.mean(subdf.price_per_sqft)\n",
        "        st = np.std(subdf.price_per_sqft)\n",
        "        reduced_df = subdf[(subdf.price_per_sqft>(m-st))& (subdf.price_per_sqft<=(m+st))]\n",
        "        df_out = pd.concat([df_out,reduced_df],ignore_index = True)\n",
        "    return df_out"
      ],
      "metadata": {
        "execution": {
          "iopub.status.busy": "2023-06-30T19:13:32.949668Z",
          "iopub.execute_input": "2023-06-30T19:13:32.949973Z",
          "iopub.status.idle": "2023-06-30T19:13:32.957093Z",
          "shell.execute_reply.started": "2023-06-30T19:13:32.949947Z",
          "shell.execute_reply": "2023-06-30T19:13:32.955803Z"
        },
        "trusted": true,
        "id": "IXuvEUhnNLJx"
      },
      "execution_count": null,
      "outputs": []
    },
    {
      "cell_type": "code",
      "source": [
        "df5 = remove_pps_outlier(df4)"
      ],
      "metadata": {
        "execution": {
          "iopub.status.busy": "2023-06-30T19:13:32.958563Z",
          "iopub.execute_input": "2023-06-30T19:13:32.959441Z",
          "iopub.status.idle": "2023-06-30T19:13:33.306355Z",
          "shell.execute_reply.started": "2023-06-30T19:13:32.959367Z",
          "shell.execute_reply": "2023-06-30T19:13:33.304831Z"
        },
        "trusted": true,
        "id": "RMFZNZp1NLJx"
      },
      "execution_count": null,
      "outputs": []
    },
    {
      "cell_type": "code",
      "source": [
        "df5.shape"
      ],
      "metadata": {
        "execution": {
          "iopub.status.busy": "2023-06-30T19:13:33.307636Z",
          "iopub.execute_input": "2023-06-30T19:13:33.307926Z",
          "iopub.status.idle": "2023-06-30T19:13:33.314423Z",
          "shell.execute_reply.started": "2023-06-30T19:13:33.307902Z",
          "shell.execute_reply": "2023-06-30T19:13:33.313319Z"
        },
        "trusted": true,
        "id": "IRsmVPhSNLJx"
      },
      "execution_count": null,
      "outputs": []
    },
    {
      "cell_type": "markdown",
      "source": [
        "Now we want to see if for same sqft area between bedrooms, how does the price vary. We notice that in some cases when there are less bedrooms and same sqft when compared to 3 BHK the price is more. We will visualize such data in scatter plot."
      ],
      "metadata": {
        "id": "22sOjJ9RNLJx"
      }
    },
    {
      "cell_type": "code",
      "source": [
        "#Function to visualize prices between 2 & 3BHK\n",
        "def plot_scatter_chart(df,location):\n",
        "    bhk2 = df[(df.location==location) & (df.bhk==2)]\n",
        "    bhk3 = df[(df.location==location) & (df.bhk==3)]\n",
        "    plt.rcParams['figure.figsize'] = (15,10)\n",
        "    plt.scatter(bhk2.total_sqft,bhk2.price,color='blue',label='2 BHK', s=50)\n",
        "    plt.scatter(bhk3.total_sqft,bhk3.price,marker='+', color='green',label='3 BHK', s=50)\n",
        "    plt.xlabel(\"Total Square Feet Area\")\n",
        "    plt.ylabel(\"Price (Lakh Indian Rupees)\")\n",
        "    plt.title(location)\n",
        "    plt.legend()"
      ],
      "metadata": {
        "execution": {
          "iopub.status.busy": "2023-06-30T19:13:33.315867Z",
          "iopub.execute_input": "2023-06-30T19:13:33.316188Z",
          "iopub.status.idle": "2023-06-30T19:13:33.326526Z",
          "shell.execute_reply.started": "2023-06-30T19:13:33.31616Z",
          "shell.execute_reply": "2023-06-30T19:13:33.325329Z"
        },
        "trusted": true,
        "id": "spiYz5T0NLJx"
      },
      "execution_count": null,
      "outputs": []
    },
    {
      "cell_type": "code",
      "source": [
        "plot_scatter_chart(df5,\"Rajaji Nagar\")"
      ],
      "metadata": {
        "execution": {
          "iopub.status.busy": "2023-06-30T19:13:33.333716Z",
          "iopub.execute_input": "2023-06-30T19:13:33.334025Z",
          "iopub.status.idle": "2023-06-30T19:13:33.634407Z",
          "shell.execute_reply.started": "2023-06-30T19:13:33.333999Z",
          "shell.execute_reply": "2023-06-30T19:13:33.63333Z"
        },
        "trusted": true,
        "id": "FO3kUUZ2NLJx"
      },
      "execution_count": null,
      "outputs": []
    },
    {
      "cell_type": "markdown",
      "source": [
        "Observations: When Total Sqaure Feet Area is around 1700, the price of 2 BHK is more. We want to remove such outliers."
      ],
      "metadata": {
        "id": "EMTNE1M3NLJx"
      }
    },
    {
      "cell_type": "code",
      "source": [
        "plot_scatter_chart(df5,\"Hebbal\")"
      ],
      "metadata": {
        "execution": {
          "iopub.status.busy": "2023-06-30T19:13:33.635594Z",
          "iopub.execute_input": "2023-06-30T19:13:33.635847Z",
          "iopub.status.idle": "2023-06-30T19:13:33.946654Z",
          "shell.execute_reply.started": "2023-06-30T19:13:33.635824Z",
          "shell.execute_reply": "2023-06-30T19:13:33.946Z"
        },
        "trusted": true,
        "id": "tI5SfGaMNLJy"
      },
      "execution_count": null,
      "outputs": []
    },
    {
      "cell_type": "code",
      "source": [
        "#Function to remove such outliers\n",
        "def remove_bhk_outliers(df):\n",
        "    exclude_indices = np.array([])\n",
        "    for location, location_df in df.groupby('location'):\n",
        "        bhk_stats = {}\n",
        "        for bhk, bhk_df in location_df.groupby('bhk'):\n",
        "            bhk_stats[bhk] = {\n",
        "                'mean': np.mean(bhk_df.price_per_sqft),\n",
        "                'std': np.std(bhk_df.price_per_sqft),\n",
        "                'count': bhk_df.shape[0]\n",
        "            }\n",
        "        for bhk, bhk_df in location_df.groupby('bhk'):\n",
        "            stats = bhk_stats.get(bhk-1)\n",
        "            if stats and stats['count']>5:\n",
        "                exclude_indices = np.append(exclude_indices, bhk_df[bhk_df.price_per_sqft<(stats['mean'])].index.values)\n",
        "    return df.drop(exclude_indices,axis='index')"
      ],
      "metadata": {
        "execution": {
          "iopub.status.busy": "2023-06-30T19:13:33.947524Z",
          "iopub.execute_input": "2023-06-30T19:13:33.947908Z",
          "iopub.status.idle": "2023-06-30T19:13:33.955553Z",
          "shell.execute_reply.started": "2023-06-30T19:13:33.947887Z",
          "shell.execute_reply": "2023-06-30T19:13:33.953915Z"
        },
        "trusted": true,
        "id": "CH-Rg-TlNLJy"
      },
      "execution_count": null,
      "outputs": []
    },
    {
      "cell_type": "code",
      "source": [
        "df6 = remove_bhk_outliers(df5)\n",
        "df6.shape"
      ],
      "metadata": {
        "execution": {
          "iopub.status.busy": "2023-06-30T19:13:33.957191Z",
          "iopub.execute_input": "2023-06-30T19:13:33.957573Z",
          "iopub.status.idle": "2023-06-30T19:13:34.494842Z",
          "shell.execute_reply.started": "2023-06-30T19:13:33.957543Z",
          "shell.execute_reply": "2023-06-30T19:13:34.493707Z"
        },
        "trusted": true,
        "id": "co5YvuXSNLJy"
      },
      "execution_count": null,
      "outputs": []
    },
    {
      "cell_type": "code",
      "source": [
        "plot_scatter_chart(df6,\"Rajaji Nagar\")"
      ],
      "metadata": {
        "execution": {
          "iopub.status.busy": "2023-06-30T19:13:34.498728Z",
          "iopub.execute_input": "2023-06-30T19:13:34.499076Z",
          "iopub.status.idle": "2023-06-30T19:13:35.012494Z",
          "shell.execute_reply.started": "2023-06-30T19:13:34.49905Z",
          "shell.execute_reply": "2023-06-30T19:13:35.011233Z"
        },
        "trusted": true,
        "id": "Cey8FPgnNLJy"
      },
      "execution_count": null,
      "outputs": []
    },
    {
      "cell_type": "code",
      "source": [
        "plot_scatter_chart(df6,\"Hebbal\")"
      ],
      "metadata": {
        "execution": {
          "iopub.status.busy": "2023-06-30T19:13:35.013575Z",
          "iopub.execute_input": "2023-06-30T19:13:35.013837Z",
          "iopub.status.idle": "2023-06-30T19:13:35.345542Z",
          "shell.execute_reply.started": "2023-06-30T19:13:35.013815Z",
          "shell.execute_reply": "2023-06-30T19:13:35.344867Z"
        },
        "trusted": true,
        "id": "gUmFzqcmNLJy"
      },
      "execution_count": null,
      "outputs": []
    },
    {
      "cell_type": "markdown",
      "source": [
        "We see that some of the outliers have been cleaned. Next,we plot histogram and see the data distribution"
      ],
      "metadata": {
        "id": "mDsu76YINLJy"
      }
    },
    {
      "cell_type": "code",
      "source": [
        "plt.rcParams[\"figure.figsize\"] = (20,10)\n",
        "plt.hist(df6.price_per_sqft,rwidth=0.8)\n",
        "plt.xlabel(\"Price Per Square Feet\")\n",
        "plt.ylabel(\"Count\")"
      ],
      "metadata": {
        "execution": {
          "iopub.status.busy": "2023-06-30T19:13:35.34655Z",
          "iopub.execute_input": "2023-06-30T19:13:35.346977Z",
          "iopub.status.idle": "2023-06-30T19:13:35.616204Z",
          "shell.execute_reply.started": "2023-06-30T19:13:35.346952Z",
          "shell.execute_reply": "2023-06-30T19:13:35.615245Z"
        },
        "trusted": true,
        "id": "KozDFcj7NLJy"
      },
      "execution_count": null,
      "outputs": []
    },
    {
      "cell_type": "markdown",
      "source": [
        "We see that the data is normally distributed and has some bell shaped curve"
      ],
      "metadata": {
        "id": "KKR2_GVmNLJy"
      }
    },
    {
      "cell_type": "markdown",
      "source": [
        "Now we explore the number of bathroom feature. Usually for 2 bedroom we have 2 or 3 bathrooms, more than that is highly unlikely."
      ],
      "metadata": {
        "id": "Nge0clTKNLJy"
      }
    },
    {
      "cell_type": "code",
      "source": [
        "df6.bath.unique()"
      ],
      "metadata": {
        "execution": {
          "iopub.status.busy": "2023-06-30T19:13:35.617204Z",
          "iopub.execute_input": "2023-06-30T19:13:35.617448Z",
          "iopub.status.idle": "2023-06-30T19:13:35.623512Z",
          "shell.execute_reply.started": "2023-06-30T19:13:35.617427Z",
          "shell.execute_reply": "2023-06-30T19:13:35.6225Z"
        },
        "trusted": true,
        "id": "M7nTiHLgNLJz"
      },
      "execution_count": null,
      "outputs": []
    },
    {
      "cell_type": "code",
      "source": [
        "df6[df6.bath>10]"
      ],
      "metadata": {
        "execution": {
          "iopub.status.busy": "2023-06-30T19:13:35.624578Z",
          "iopub.execute_input": "2023-06-30T19:13:35.624807Z",
          "iopub.status.idle": "2023-06-30T19:13:35.644106Z",
          "shell.execute_reply.started": "2023-06-30T19:13:35.624786Z",
          "shell.execute_reply": "2023-06-30T19:13:35.642802Z"
        },
        "trusted": true,
        "id": "Mm5ALmFJNLJz"
      },
      "execution_count": null,
      "outputs": []
    },
    {
      "cell_type": "code",
      "source": [
        "df6[df6.bath>df6.bhk+2] #Checking which properties does not have ideal number of bathrooms (have more)"
      ],
      "metadata": {
        "execution": {
          "iopub.status.busy": "2023-06-30T19:13:35.645307Z",
          "iopub.execute_input": "2023-06-30T19:13:35.645647Z",
          "iopub.status.idle": "2023-06-30T19:13:35.664706Z",
          "shell.execute_reply.started": "2023-06-30T19:13:35.645621Z",
          "shell.execute_reply": "2023-06-30T19:13:35.663715Z"
        },
        "trusted": true,
        "id": "imj53UANNLJz"
      },
      "execution_count": null,
      "outputs": []
    },
    {
      "cell_type": "code",
      "source": [
        "#The above data are outliers & we need to remove them\n",
        "df7 = df6[df6.bath<df6.bhk+2]"
      ],
      "metadata": {
        "execution": {
          "iopub.status.busy": "2023-06-30T19:13:35.665875Z",
          "iopub.execute_input": "2023-06-30T19:13:35.666169Z",
          "iopub.status.idle": "2023-06-30T19:13:35.679492Z",
          "shell.execute_reply.started": "2023-06-30T19:13:35.666145Z",
          "shell.execute_reply": "2023-06-30T19:13:35.678104Z"
        },
        "trusted": true,
        "id": "EbEsiUfjNLJz"
      },
      "execution_count": null,
      "outputs": []
    },
    {
      "cell_type": "code",
      "source": [
        "other_locations = df7[df7['location'] == 'Other']\n",
        "\n",
        "# Print the other locations\n",
        "print(other_locations)"
      ],
      "metadata": {
        "execution": {
          "iopub.status.busy": "2023-06-30T19:13:35.680776Z",
          "iopub.execute_input": "2023-06-30T19:13:35.681046Z",
          "iopub.status.idle": "2023-06-30T19:13:35.698562Z",
          "shell.execute_reply.started": "2023-06-30T19:13:35.681017Z",
          "shell.execute_reply": "2023-06-30T19:13:35.697845Z"
        },
        "trusted": true,
        "id": "6Fdhs98gNLJz"
      },
      "execution_count": null,
      "outputs": []
    },
    {
      "cell_type": "code",
      "source": [
        "df7.shape"
      ],
      "metadata": {
        "execution": {
          "iopub.status.busy": "2023-06-30T19:13:35.699685Z",
          "iopub.execute_input": "2023-06-30T19:13:35.699891Z",
          "iopub.status.idle": "2023-06-30T19:13:35.712567Z",
          "shell.execute_reply.started": "2023-06-30T19:13:35.699871Z",
          "shell.execute_reply": "2023-06-30T19:13:35.711424Z"
        },
        "trusted": true,
        "id": "opirGdDDNLJz"
      },
      "execution_count": null,
      "outputs": []
    },
    {
      "cell_type": "markdown",
      "source": [
        "- We will drop 'size' column, as we have already created 'bhk' column.\n",
        "- We will drop price_per_sqft column, as it is no longer required and we had to use it only for outlier detection"
      ],
      "metadata": {
        "id": "nOqUYEYENLJz"
      }
    },
    {
      "cell_type": "markdown",
      "source": [
        "As ML algorithm cannot interpret text data, we will use encoding to convert 'location'"
      ],
      "metadata": {
        "id": "k2bco084NLJz"
      }
    },
    {
      "cell_type": "code",
      "source": [
        "dum = pd.get_dummies(df7.location)\n",
        "dum"
      ],
      "metadata": {
        "execution": {
          "iopub.status.busy": "2023-06-30T19:13:35.714027Z",
          "iopub.execute_input": "2023-06-30T19:13:35.714389Z",
          "iopub.status.idle": "2023-06-30T19:13:35.747248Z",
          "shell.execute_reply.started": "2023-06-30T19:13:35.714341Z",
          "shell.execute_reply": "2023-06-30T19:13:35.746433Z"
        },
        "trusted": true,
        "id": "49zZZlpZNLJz"
      },
      "execution_count": null,
      "outputs": []
    },
    {
      "cell_type": "code",
      "source": [
        "#To avoid dummy trap, we drop one column. For dummies, we should have one less column\n",
        "df8 = pd.concat([df7, dum.drop('Other', axis = 1)], axis = 1)\n",
        "#df7 = pd.concat([df6, dum.drop], axis = 'columns')\n",
        "df8.head(10)"
      ],
      "metadata": {
        "execution": {
          "iopub.status.busy": "2023-06-30T19:13:35.748565Z",
          "iopub.execute_input": "2023-06-30T19:13:35.748868Z",
          "iopub.status.idle": "2023-06-30T19:13:35.774188Z",
          "shell.execute_reply.started": "2023-06-30T19:13:35.748839Z",
          "shell.execute_reply": "2023-06-30T19:13:35.773347Z"
        },
        "trusted": true,
        "id": "h1q4ZbAlNLJz"
      },
      "execution_count": null,
      "outputs": []
    },
    {
      "cell_type": "code",
      "source": [
        "df8.dtypes"
      ],
      "metadata": {
        "execution": {
          "iopub.status.busy": "2023-06-30T19:13:35.775189Z",
          "iopub.execute_input": "2023-06-30T19:13:35.775508Z",
          "iopub.status.idle": "2023-06-30T19:13:35.78246Z",
          "shell.execute_reply.started": "2023-06-30T19:13:35.775479Z",
          "shell.execute_reply": "2023-06-30T19:13:35.781685Z"
        },
        "trusted": true,
        "id": "hrdd3pGtNLJz"
      },
      "execution_count": null,
      "outputs": []
    },
    {
      "cell_type": "code",
      "source": [
        "df9 = df8.drop(['price_per_sqft','location', 'size'],axis=\"columns\")"
      ],
      "metadata": {
        "execution": {
          "iopub.status.busy": "2023-06-30T19:13:35.783216Z",
          "iopub.execute_input": "2023-06-30T19:13:35.783492Z",
          "iopub.status.idle": "2023-06-30T19:13:35.796082Z",
          "shell.execute_reply.started": "2023-06-30T19:13:35.783468Z",
          "shell.execute_reply": "2023-06-30T19:13:35.794692Z"
        },
        "trusted": true,
        "id": "MK-fKkIcNLJ0"
      },
      "execution_count": null,
      "outputs": []
    },
    {
      "cell_type": "markdown",
      "source": [
        "# 6. Applying ML Algorithms"
      ],
      "metadata": {
        "id": "kcZ1RxK-NLJ0"
      }
    },
    {
      "cell_type": "code",
      "source": [
        "X = df9.drop('price', axis = \"columns\")\n",
        "X.head()"
      ],
      "metadata": {
        "execution": {
          "iopub.status.busy": "2023-06-30T19:13:35.797995Z",
          "iopub.execute_input": "2023-06-30T19:13:35.798276Z",
          "iopub.status.idle": "2023-06-30T19:13:35.821095Z",
          "shell.execute_reply.started": "2023-06-30T19:13:35.798252Z",
          "shell.execute_reply": "2023-06-30T19:13:35.820503Z"
        },
        "trusted": true,
        "id": "p3a4dD0rNLJ0"
      },
      "execution_count": null,
      "outputs": []
    },
    {
      "cell_type": "code",
      "source": [
        "y = df9.price"
      ],
      "metadata": {
        "execution": {
          "iopub.status.busy": "2023-06-30T19:13:35.822005Z",
          "iopub.execute_input": "2023-06-30T19:13:35.822341Z",
          "iopub.status.idle": "2023-06-30T19:13:35.825327Z",
          "shell.execute_reply.started": "2023-06-30T19:13:35.822321Z",
          "shell.execute_reply": "2023-06-30T19:13:35.824814Z"
        },
        "trusted": true,
        "id": "OnBkhwowNLJ0"
      },
      "execution_count": null,
      "outputs": []
    },
    {
      "cell_type": "code",
      "source": [
        "#using test train split method\n",
        "from sklearn.model_selection import train_test_split\n",
        "X_train, X_test, y_train, y_test = train_test_split(X,y, test_size=0.2, random_state=10)"
      ],
      "metadata": {
        "execution": {
          "iopub.status.busy": "2023-06-30T19:13:35.826015Z",
          "iopub.execute_input": "2023-06-30T19:13:35.826887Z",
          "iopub.status.idle": "2023-06-30T19:13:35.852527Z",
          "shell.execute_reply.started": "2023-06-30T19:13:35.826866Z",
          "shell.execute_reply": "2023-06-30T19:13:35.851795Z"
        },
        "trusted": true,
        "id": "qhGh3OjqNLJ0"
      },
      "execution_count": null,
      "outputs": []
    },
    {
      "cell_type": "code",
      "source": [
        "#Creating Linear Regression model\n",
        "from sklearn.linear_model import LinearRegression\n",
        "lr_clf = LinearRegression()\n",
        "lr_clf.fit(X_train,y_train)\n",
        "lr_clf.score(X_test,y_test)"
      ],
      "metadata": {
        "execution": {
          "iopub.status.busy": "2023-06-30T19:13:35.853421Z",
          "iopub.execute_input": "2023-06-30T19:13:35.854537Z",
          "iopub.status.idle": "2023-06-30T19:13:35.95583Z",
          "shell.execute_reply.started": "2023-06-30T19:13:35.854484Z",
          "shell.execute_reply": "2023-06-30T19:13:35.95486Z"
        },
        "trusted": true,
        "id": "OZzIwDR5NLJ0"
      },
      "execution_count": null,
      "outputs": []
    },
    {
      "cell_type": "markdown",
      "source": [
        "Using K Fold cross validation to measure accuracy of LinearRegression model"
      ],
      "metadata": {
        "id": "Kyw23RCJNLJ0"
      }
    },
    {
      "cell_type": "code",
      "source": [
        "from sklearn.model_selection import ShuffleSplit\n",
        "from sklearn.model_selection import cross_val_score\n",
        "\n",
        "cv = ShuffleSplit(n_splits=5, test_size=0.2, random_state=0)\n",
        "\n",
        "cross_val_score(LinearRegression(), X, y, cv=cv)"
      ],
      "metadata": {
        "execution": {
          "iopub.status.busy": "2023-06-30T19:13:35.956994Z",
          "iopub.execute_input": "2023-06-30T19:13:35.957478Z",
          "iopub.status.idle": "2023-06-30T19:13:36.658018Z",
          "shell.execute_reply.started": "2023-06-30T19:13:35.957448Z",
          "shell.execute_reply": "2023-06-30T19:13:36.657266Z"
        },
        "trusted": true,
        "id": "PuqVDF5dNLJ0"
      },
      "execution_count": null,
      "outputs": []
    },
    {
      "cell_type": "markdown",
      "source": [
        "**We can see that in 5 iterations we get a score above 80% all the time. This is pretty good but we want to test few other algorithms for regression to see if we can get even better score. We will use GridSearchCV for this purpose**"
      ],
      "metadata": {
        "id": "dTj8D9uzNLJ0"
      }
    },
    {
      "cell_type": "markdown",
      "source": [
        "# Find best model using GridSearchCV"
      ],
      "metadata": {
        "id": "KL_2gamPNLJ0"
      }
    },
    {
      "cell_type": "code",
      "source": [
        "from sklearn.model_selection import GridSearchCV\n",
        "\n",
        "from sklearn.linear_model import Lasso\n",
        "from sklearn.tree import DecisionTreeRegressor\n",
        "\n",
        "def find_best_model_using_gridsearchcv(X,y):\n",
        "    algos = {\n",
        "        'linear_regression' : {\n",
        "            'model': LinearRegression(),\n",
        "            'params': {\n",
        "                'fit_intercept': [True, False]\n",
        "            }\n",
        "        },\n",
        "        'lasso': {\n",
        "            'model': Lasso(),\n",
        "            'params': {\n",
        "                'alpha': [1,2],\n",
        "                'selection': ['random', 'cyclic']\n",
        "            }\n",
        "        },\n",
        "        'decision_tree': {\n",
        "            'model': DecisionTreeRegressor(),\n",
        "            'params': {\n",
        "                'criterion' : ['squared_error','friedman_mse'],\n",
        "                'splitter': ['best','random']\n",
        "            }\n",
        "        }\n",
        "    }\n",
        "    scores = []\n",
        "    cv = ShuffleSplit(n_splits=5, test_size=0.2, random_state=0)\n",
        "    for algo_name, config in algos.items():\n",
        "        gs =  GridSearchCV(config['model'], config['params'], cv=cv, return_train_score=False)\n",
        "        gs.fit(X,y)\n",
        "        scores.append({\n",
        "            'model': algo_name,\n",
        "            'best_score': gs.best_score_,\n",
        "            'best_params': gs.best_params_\n",
        "        })\n",
        "\n",
        "    return pd.DataFrame(scores,columns=['model','best_score','best_params'])\n",
        "\n",
        "find_best_model_using_gridsearchcv(X,y)"
      ],
      "metadata": {
        "execution": {
          "iopub.status.busy": "2023-06-30T19:13:36.659031Z",
          "iopub.execute_input": "2023-06-30T19:13:36.659322Z",
          "iopub.status.idle": "2023-06-30T19:13:41.726012Z",
          "shell.execute_reply.started": "2023-06-30T19:13:36.659294Z",
          "shell.execute_reply": "2023-06-30T19:13:41.725206Z"
        },
        "trusted": true,
        "id": "u4LY5s56NLJ0"
      },
      "execution_count": null,
      "outputs": []
    },
    {
      "cell_type": "code",
      "source": [
        "X.columns"
      ],
      "metadata": {
        "execution": {
          "iopub.status.busy": "2023-06-30T19:13:41.727204Z",
          "iopub.execute_input": "2023-06-30T19:13:41.727453Z",
          "iopub.status.idle": "2023-06-30T19:13:41.733607Z",
          "shell.execute_reply.started": "2023-06-30T19:13:41.727432Z",
          "shell.execute_reply": "2023-06-30T19:13:41.732626Z"
        },
        "trusted": true,
        "id": "0G51RxvONLJ1"
      },
      "execution_count": null,
      "outputs": []
    },
    {
      "cell_type": "code",
      "source": [
        "np.where(X.columns=='2nd Phase Judicial Layout')[0][0]"
      ],
      "metadata": {
        "execution": {
          "iopub.status.busy": "2023-06-30T19:13:41.734976Z",
          "iopub.execute_input": "2023-06-30T19:13:41.735713Z",
          "iopub.status.idle": "2023-06-30T19:13:41.751057Z",
          "shell.execute_reply.started": "2023-06-30T19:13:41.735686Z",
          "shell.execute_reply": "2023-06-30T19:13:41.75018Z"
        },
        "trusted": true,
        "id": "TfcIb4CzNLJ1"
      },
      "execution_count": null,
      "outputs": []
    },
    {
      "cell_type": "markdown",
      "source": [
        "Based on above results we can say that LinearRegression gives the best score. Hence we will use that."
      ],
      "metadata": {
        "id": "GQB46r_NNLJ1"
      }
    },
    {
      "cell_type": "markdown",
      "source": [
        "# Testing model for few properties"
      ],
      "metadata": {
        "id": "_q_cfCYaNLJ1"
      }
    },
    {
      "cell_type": "code",
      "source": [
        "def predict_price(location,sqft,bath,bhk):\n",
        "    loc_index = np.where(X.columns==location)[0][0]\n",
        "\n",
        "    x = np.zeros(len(X.columns))\n",
        "    x[0] = sqft\n",
        "    x[1] = bath\n",
        "    x[2] = bhk\n",
        "    if loc_index >= 0:\n",
        "        x[loc_index] = 1\n",
        "\n",
        "    return lr_clf.predict([x])[0]"
      ],
      "metadata": {
        "execution": {
          "iopub.status.busy": "2023-06-30T19:13:41.752432Z",
          "iopub.execute_input": "2023-06-30T19:13:41.753209Z",
          "iopub.status.idle": "2023-06-30T19:13:41.762Z",
          "shell.execute_reply.started": "2023-06-30T19:13:41.753175Z",
          "shell.execute_reply": "2023-06-30T19:13:41.760401Z"
        },
        "trusted": true,
        "id": "BJpaH78jNLJ1"
      },
      "execution_count": null,
      "outputs": []
    },
    {
      "cell_type": "code",
      "source": [
        "predict_price('1st Phase JP Nagar', 1000, 2, 2)"
      ],
      "metadata": {
        "execution": {
          "iopub.status.busy": "2023-06-30T19:13:41.764214Z",
          "iopub.execute_input": "2023-06-30T19:13:41.764551Z",
          "iopub.status.idle": "2023-06-30T19:13:41.776439Z",
          "shell.execute_reply.started": "2023-06-30T19:13:41.764523Z",
          "shell.execute_reply": "2023-06-30T19:13:41.775411Z"
        },
        "trusted": true,
        "id": "Ydpk2BuGNLJ1"
      },
      "execution_count": null,
      "outputs": []
    },
    {
      "cell_type": "code",
      "source": [
        "predict_price('Indira Nagar', 1000, 2, 2)"
      ],
      "metadata": {
        "execution": {
          "iopub.status.busy": "2023-06-30T19:13:41.777452Z",
          "iopub.execute_input": "2023-06-30T19:13:41.778145Z",
          "iopub.status.idle": "2023-06-30T19:13:41.794268Z",
          "shell.execute_reply.started": "2023-06-30T19:13:41.77811Z",
          "shell.execute_reply": "2023-06-30T19:13:41.792983Z"
        },
        "trusted": true,
        "id": "AXBGiFH5NLJ1"
      },
      "execution_count": null,
      "outputs": []
    },
    {
      "cell_type": "markdown",
      "source": [
        "Exporting tested model to pickle file"
      ],
      "metadata": {
        "id": "aQcHaLL8NLJ1"
      }
    },
    {
      "cell_type": "code",
      "source": [
        "import pickle\n",
        "with open('banglore_home_prices_model.pickle','wb') as f:\n",
        "    pickle.dump(lr_clf,f)"
      ],
      "metadata": {
        "execution": {
          "iopub.status.busy": "2023-06-30T19:13:41.795683Z",
          "iopub.execute_input": "2023-06-30T19:13:41.796563Z",
          "iopub.status.idle": "2023-06-30T19:13:41.805205Z",
          "shell.execute_reply.started": "2023-06-30T19:13:41.7965Z",
          "shell.execute_reply": "2023-06-30T19:13:41.804015Z"
        },
        "trusted": true,
        "id": "BlFNj9SzNLJ1"
      },
      "execution_count": null,
      "outputs": []
    },
    {
      "cell_type": "markdown",
      "source": [
        "Export location and column information to a file that will be useful later on in our prediction application"
      ],
      "metadata": {
        "id": "IGrelwH9NLJ1"
      }
    },
    {
      "cell_type": "code",
      "source": [
        "import json\n",
        "columns = {\n",
        "    'data_columns' : [col.lower() for col in X.columns]\n",
        "}\n",
        "with open(\"columns.json\",\"w\") as f:\n",
        "    f.write(json.dumps(columns))"
      ],
      "metadata": {
        "execution": {
          "iopub.status.busy": "2023-06-30T19:13:41.808294Z",
          "iopub.execute_input": "2023-06-30T19:13:41.809015Z",
          "iopub.status.idle": "2023-06-30T19:13:41.817762Z",
          "shell.execute_reply.started": "2023-06-30T19:13:41.808978Z",
          "shell.execute_reply": "2023-06-30T19:13:41.816476Z"
        },
        "trusted": true,
        "id": "wjBGLNerNLJ1"
      },
      "execution_count": null,
      "outputs": []
    },
    {
      "cell_type": "markdown",
      "source": [
        "## References:\n",
        "https://github.com/codebasics"
      ],
      "metadata": {
        "id": "iU_OQN-_NLJ2"
      }
    }
  ]
}